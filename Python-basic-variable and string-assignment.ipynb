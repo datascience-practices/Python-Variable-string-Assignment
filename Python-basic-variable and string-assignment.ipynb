{
 "cells": [
  {
   "cell_type": "markdown",
   "id": "e75412b8-4b79-4aa4-8dc8-68d7d281f51c",
   "metadata": {},
   "source": [
    "Assignment 1 (Python basic variable)\n",
    "\n",
    "Assignment For Swap the values of variables without using any temporary variable."
   ]
  },
  {
   "cell_type": "code",
   "execution_count": 8,
   "id": "fb4f2f18-d0b2-4703-b482-4ea8f3eea281",
   "metadata": {},
   "outputs": [],
   "source": [
    "#Assignment For Swap the values of variables without using any temporary variable.\n",
    "x = 20;  #declaring a variable\n",
    "y = 80;  #decalring a variable "
   ]
  },
  {
   "cell_type": "code",
   "execution_count": 9,
   "id": "8352cb35-2560-4a3d-8ed7-d60592512c99",
   "metadata": {},
   "outputs": [
    {
     "name": "stdout",
     "output_type": "stream",
     "text": [
      "x = 80\n",
      "y = 20\n"
     ]
    }
   ],
   "source": [
    "x, y = y, x #swaping two numbers\n",
    "print(\"x =\", x) #print the value of x\n",
    "print(\"y =\", y) #print the value of y"
   ]
  },
  {
   "cell_type": "markdown",
   "id": "12a87061-7985-4aef-93ff-ff1361d4ae9a",
   "metadata": {},
   "source": [
    "Assignment 2 (Python basic variable)\n",
    "\n",
    "Create a program that calculates the area of a rectangle. Take the\n",
    "length and width as inputs from the user and store them in variables.\n",
    "Calculate and display the area."
   ]
  },
  {
   "cell_type": "code",
   "execution_count": 11,
   "id": "e303b1f1-45eb-450e-a177-115aae55363f",
   "metadata": {},
   "outputs": [
    {
     "name": "stdin",
     "output_type": "stream",
     "text": [
      "Input the length of rectangle :  6\n",
      "Input the width of rectangle :  9\n"
     ]
    },
    {
     "name": "stdout",
     "output_type": "stream",
     "text": [
      "area of rectangle =  54.0\n"
     ]
    }
   ],
   "source": [
    "l = float(input(\"Input the length of rectangle : \")) #taking length as input and converted into float\n",
    "w = float(input(\"Input the width of rectangle : \")) #taking width as input and converted into float\n",
    "\n",
    "area = l * w # area of rentagle formula\n",
    "\n",
    "print(\"area of rectangle = \", area) # print the area of rectangle."
   ]
  },
  {
   "cell_type": "markdown",
   "id": "d85b6fa8-3b4d-40ed-9a44-496ec2e07047",
   "metadata": {},
   "source": [
    "Assignment 3 (Python basic variable)\n",
    "\n",
    "3] Write a Python program that converts temperature from Celsius to\n",
    "Fahrenheit. Take the temperature in Celsius as input, store it in a\n",
    "variable, convert it to Fahrenheit, and display the result."
   ]
  },
  {
   "cell_type": "code",
   "execution_count": 15,
   "id": "c001ff9a-5e27-41a2-a52d-577acc4a9894",
   "metadata": {},
   "outputs": [
    {
     "name": "stdin",
     "output_type": "stream",
     "text": [
      "Enter a temperature value in degree Celsius:  9\n"
     ]
    },
    {
     "name": "stdout",
     "output_type": "stream",
     "text": [
      "The 9.00 degree Celsius is equal to: 48.20 Fahrenheit\n"
     ]
    }
   ],
   "source": [
    "celsius = float (input(\"Enter a temperature value in degree Celsius: \" ))  #taking temparature in celsius as  input\n",
    "fahrenheit = (celsius * 9/5) + 32  # formula applied for fahrenheit\n",
    "    \n",
    "print ('The %.2f degree Celsius is equal to: %.2f Fahrenheit'  # print the result  \n",
    "      %(celsius, fahrenheit))  "
   ]
  },
  {
   "cell_type": "markdown",
   "id": "9b6f4d0d-e570-4678-a2b3-539c4ca27b2e",
   "metadata": {},
   "source": [
    "String Based Questions\n",
    "\n",
    "Assignment 1 - Write a Python program that takes a string as input and prints the\n",
    "length of the string."
   ]
  },
  {
   "cell_type": "code",
   "execution_count": 20,
   "id": "07fb02ca-e281-477c-b24c-68528147c9b2",
   "metadata": {},
   "outputs": [
    {
     "name": "stdin",
     "output_type": "stream",
     "text": [
      "Enter a string:  shravan\n"
     ]
    },
    {
     "name": "stdout",
     "output_type": "stream",
     "text": [
      "7\n"
     ]
    }
   ],
   "source": [
    "name = input (\"Enter a string: \") # taking input as a string\n",
    "lengthOfString = len(name)    # finding length of string using len function\n",
    "print (lengthOfString)        # print the length of string"
   ]
  },
  {
   "cell_type": "markdown",
   "id": "6538c706-75cd-453f-88ab-2a8d8c4e403c",
   "metadata": {},
   "source": [
    "Assignment -2 Create a program that takes a sentence from the user and counts the\n",
    "number of vowels (a, e, i, o, u) in the string."
   ]
  },
  {
   "cell_type": "code",
   "execution_count": 30,
   "id": "82c11a2e-0030-4889-9239-300107bdf994",
   "metadata": {},
   "outputs": [
    {
     "name": "stdin",
     "output_type": "stream",
     "text": [
      "Enter string:  oooooo\n"
     ]
    },
    {
     "name": "stdout",
     "output_type": "stream",
     "text": [
      "Number of vowels are:  6\n"
     ]
    }
   ],
   "source": [
    "string=input(\"Enter string: \") # taking input as string\n",
    "vowels=0                       #initial vowel value 0\n",
    "string.lower()                 # making string as lower\n",
    "for i in string:                # iterate one to one charactor to check the vowel or not\n",
    "      if(i=='a' or i=='e' or i=='i' or i=='o' or i=='u'):\n",
    "            vowels=vowels+1\n",
    "print(\"Number of vowels are: \", vowels)  # print the count value of vowels"
   ]
  },
  {
   "cell_type": "markdown",
   "id": "67189e95-8b5b-4f50-ab09-4b220f4b0dd8",
   "metadata": {},
   "source": [
    "Assignment - 3 Given a string, reverse the order of characters using string slicing and\n",
    "print the reversed string."
   ]
  },
  {
   "cell_type": "code",
   "execution_count": 34,
   "id": "54c4bd72-59b4-4c9a-bcd0-be274172d29c",
   "metadata": {},
   "outputs": [
    {
     "name": "stdout",
     "output_type": "stream",
     "text": [
      "elabU ikateK\n"
     ]
    }
   ],
   "source": [
    "name = \"Ketaki Ubale\" \n",
    "reverse_string=name[::-1] # string slicing\n",
    "\n",
    "print(reverse_string) # print reverse string\n"
   ]
  },
  {
   "cell_type": "markdown",
   "id": "63c68075-82da-4587-ba62-1ec980dddfa2",
   "metadata": {},
   "source": [
    "Assignment 4 - Write a program that takes a string as input and checks if it is a\n",
    "palindrome (reads the same forwards and backwards)."
   ]
  },
  {
   "cell_type": "code",
   "execution_count": 38,
   "id": "8f700c2a-6656-4c10-82d9-2ab80ba8a10a",
   "metadata": {},
   "outputs": [
    {
     "name": "stdin",
     "output_type": "stream",
     "text": [
      "Enter a sting:  hjjh\n"
     ]
    },
    {
     "name": "stdout",
     "output_type": "stream",
     "text": [
      "The enterd string is polindrom\n"
     ]
    }
   ],
   "source": [
    "x = input(\"Enter a sting: \") #taking input as string\n",
    " \n",
    "w = \"\"             \n",
    "for i in x:\n",
    "    w = i + w\n",
    " \n",
    "if (x == w):\n",
    "    print(\"The enterd string is polindrom\")\n",
    "else:\n",
    "    print(\"The entered string is not polindrom\")"
   ]
  },
  {
   "cell_type": "markdown",
   "id": "09612570-6c75-4f9a-9c0c-a74db9e8077e",
   "metadata": {},
   "source": [
    "Assignment 5 - Create a program that takes a string as input and removes all the\n",
    "spaces from it. Print the modified string without spaces."
   ]
  },
  {
   "cell_type": "code",
   "execution_count": 45,
   "id": "499f151d-52f7-4743-ad16-adaa3562a705",
   "metadata": {},
   "outputs": [
    {
     "name": "stdin",
     "output_type": "stream",
     "text": [
      "Enter a string:  My Name is Ketaki Ubale\n"
     ]
    },
    {
     "name": "stdout",
     "output_type": "stream",
     "text": [
      "MyNameisKetakiUbale\n"
     ]
    }
   ],
   "source": [
    "name = input(\"Enter a string: \") # taking input  as a string\n",
    "p = name.replace(\" \",\"\")          # replace space with no space\n",
    "print(p)                          # print new string without space"
   ]
  },
  {
   "cell_type": "code",
   "execution_count": null,
   "id": "d7092de3-ac04-45dd-978c-db9bb22154c0",
   "metadata": {},
   "outputs": [],
   "source": []
  }
 ],
 "metadata": {
  "kernelspec": {
   "display_name": "Python 3 (ipykernel)",
   "language": "python",
   "name": "python3"
  },
  "language_info": {
   "codemirror_mode": {
    "name": "ipython",
    "version": 3
   },
   "file_extension": ".py",
   "mimetype": "text/x-python",
   "name": "python",
   "nbconvert_exporter": "python",
   "pygments_lexer": "ipython3",
   "version": "3.10.8"
  }
 },
 "nbformat": 4,
 "nbformat_minor": 5
}
